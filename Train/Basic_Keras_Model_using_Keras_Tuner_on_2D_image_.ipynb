{
  "nbformat": 4,
  "nbformat_minor": 0,
  "metadata": {
    "colab": {
      "name": "Basic Keras Model using Keras Tuner on 2D image .ipynb",
      "provenance": [],
      "collapsed_sections": [],
      "machine_shape": "hm"
    },
    "kernelspec": {
      "name": "python3",
      "display_name": "Python 3"
    },
    "language_info": {
      "name": "python"
    },
    "accelerator": "GPU"
  },
  "cells": [
    {
      "cell_type": "markdown",
      "metadata": {
        "id": "dHMR3suQkL94"
      },
      "source": [
        "# Importing and installing Libraries"
      ]
    },
    {
      "cell_type": "code",
      "metadata": {
        "colab": {
          "base_uri": "https://localhost:8080/"
        },
        "id": "sjFEhVPokFrQ",
        "outputId": "161e79a4-a079-435b-fbcc-b25f0943976c"
      },
      "source": [
        "!pip install keras-tuner --upgrade\n",
        "!pip install pydicom"
      ],
      "execution_count": 1,
      "outputs": [
        {
          "output_type": "stream",
          "name": "stdout",
          "text": [
            "Collecting keras-tuner\n",
            "  Downloading keras_tuner-1.0.4-py3-none-any.whl (97 kB)\n",
            "\u001b[?25l\r\u001b[K     |███▍                            | 10 kB 18.6 MB/s eta 0:00:01\r\u001b[K     |██████▊                         | 20 kB 21.3 MB/s eta 0:00:01\r\u001b[K     |██████████                      | 30 kB 10.7 MB/s eta 0:00:01\r\u001b[K     |█████████████▍                  | 40 kB 9.0 MB/s eta 0:00:01\r\u001b[K     |████████████████▊               | 51 kB 5.0 MB/s eta 0:00:01\r\u001b[K     |████████████████████            | 61 kB 5.6 MB/s eta 0:00:01\r\u001b[K     |███████████████████████▍        | 71 kB 5.3 MB/s eta 0:00:01\r\u001b[K     |██████████████████████████▊     | 81 kB 5.9 MB/s eta 0:00:01\r\u001b[K     |██████████████████████████████▏ | 92 kB 4.6 MB/s eta 0:00:01\r\u001b[K     |████████████████████████████████| 97 kB 3.3 MB/s \n",
            "\u001b[?25hRequirement already satisfied: numpy in /usr/local/lib/python3.7/dist-packages (from keras-tuner) (1.19.5)\n",
            "Requirement already satisfied: scipy in /usr/local/lib/python3.7/dist-packages (from keras-tuner) (1.4.1)\n",
            "Requirement already satisfied: ipython in /usr/local/lib/python3.7/dist-packages (from keras-tuner) (5.5.0)\n",
            "Requirement already satisfied: requests in /usr/local/lib/python3.7/dist-packages (from keras-tuner) (2.23.0)\n",
            "Requirement already satisfied: packaging in /usr/local/lib/python3.7/dist-packages (from keras-tuner) (21.0)\n",
            "Requirement already satisfied: tensorboard in /usr/local/lib/python3.7/dist-packages (from keras-tuner) (2.6.0)\n",
            "Collecting kt-legacy\n",
            "  Downloading kt_legacy-1.0.4-py3-none-any.whl (9.6 kB)\n",
            "Requirement already satisfied: pexpect in /usr/local/lib/python3.7/dist-packages (from ipython->keras-tuner) (4.8.0)\n",
            "Requirement already satisfied: setuptools>=18.5 in /usr/local/lib/python3.7/dist-packages (from ipython->keras-tuner) (57.4.0)\n",
            "Requirement already satisfied: decorator in /usr/local/lib/python3.7/dist-packages (from ipython->keras-tuner) (4.4.2)\n",
            "Requirement already satisfied: pickleshare in /usr/local/lib/python3.7/dist-packages (from ipython->keras-tuner) (0.7.5)\n",
            "Requirement already satisfied: prompt-toolkit<2.0.0,>=1.0.4 in /usr/local/lib/python3.7/dist-packages (from ipython->keras-tuner) (1.0.18)\n",
            "Requirement already satisfied: traitlets>=4.2 in /usr/local/lib/python3.7/dist-packages (from ipython->keras-tuner) (5.1.0)\n",
            "Requirement already satisfied: simplegeneric>0.8 in /usr/local/lib/python3.7/dist-packages (from ipython->keras-tuner) (0.8.1)\n",
            "Requirement already satisfied: pygments in /usr/local/lib/python3.7/dist-packages (from ipython->keras-tuner) (2.6.1)\n",
            "Requirement already satisfied: six>=1.9.0 in /usr/local/lib/python3.7/dist-packages (from prompt-toolkit<2.0.0,>=1.0.4->ipython->keras-tuner) (1.15.0)\n",
            "Requirement already satisfied: wcwidth in /usr/local/lib/python3.7/dist-packages (from prompt-toolkit<2.0.0,>=1.0.4->ipython->keras-tuner) (0.2.5)\n",
            "Requirement already satisfied: pyparsing>=2.0.2 in /usr/local/lib/python3.7/dist-packages (from packaging->keras-tuner) (2.4.7)\n",
            "Requirement already satisfied: ptyprocess>=0.5 in /usr/local/lib/python3.7/dist-packages (from pexpect->ipython->keras-tuner) (0.7.0)\n",
            "Requirement already satisfied: urllib3!=1.25.0,!=1.25.1,<1.26,>=1.21.1 in /usr/local/lib/python3.7/dist-packages (from requests->keras-tuner) (1.24.3)\n",
            "Requirement already satisfied: certifi>=2017.4.17 in /usr/local/lib/python3.7/dist-packages (from requests->keras-tuner) (2021.5.30)\n",
            "Requirement already satisfied: chardet<4,>=3.0.2 in /usr/local/lib/python3.7/dist-packages (from requests->keras-tuner) (3.0.4)\n",
            "Requirement already satisfied: idna<3,>=2.5 in /usr/local/lib/python3.7/dist-packages (from requests->keras-tuner) (2.10)\n",
            "Requirement already satisfied: google-auth-oauthlib<0.5,>=0.4.1 in /usr/local/lib/python3.7/dist-packages (from tensorboard->keras-tuner) (0.4.6)\n",
            "Requirement already satisfied: protobuf>=3.6.0 in /usr/local/lib/python3.7/dist-packages (from tensorboard->keras-tuner) (3.17.3)\n",
            "Requirement already satisfied: werkzeug>=0.11.15 in /usr/local/lib/python3.7/dist-packages (from tensorboard->keras-tuner) (1.0.1)\n",
            "Requirement already satisfied: tensorboard-data-server<0.7.0,>=0.6.0 in /usr/local/lib/python3.7/dist-packages (from tensorboard->keras-tuner) (0.6.1)\n",
            "Requirement already satisfied: absl-py>=0.4 in /usr/local/lib/python3.7/dist-packages (from tensorboard->keras-tuner) (0.12.0)\n",
            "Requirement already satisfied: google-auth<2,>=1.6.3 in /usr/local/lib/python3.7/dist-packages (from tensorboard->keras-tuner) (1.35.0)\n",
            "Requirement already satisfied: tensorboard-plugin-wit>=1.6.0 in /usr/local/lib/python3.7/dist-packages (from tensorboard->keras-tuner) (1.8.0)\n",
            "Requirement already satisfied: wheel>=0.26 in /usr/local/lib/python3.7/dist-packages (from tensorboard->keras-tuner) (0.37.0)\n",
            "Requirement already satisfied: grpcio>=1.24.3 in /usr/local/lib/python3.7/dist-packages (from tensorboard->keras-tuner) (1.41.0)\n",
            "Requirement already satisfied: markdown>=2.6.8 in /usr/local/lib/python3.7/dist-packages (from tensorboard->keras-tuner) (3.3.4)\n",
            "Requirement already satisfied: cachetools<5.0,>=2.0.0 in /usr/local/lib/python3.7/dist-packages (from google-auth<2,>=1.6.3->tensorboard->keras-tuner) (4.2.4)\n",
            "Requirement already satisfied: rsa<5,>=3.1.4 in /usr/local/lib/python3.7/dist-packages (from google-auth<2,>=1.6.3->tensorboard->keras-tuner) (4.7.2)\n",
            "Requirement already satisfied: pyasn1-modules>=0.2.1 in /usr/local/lib/python3.7/dist-packages (from google-auth<2,>=1.6.3->tensorboard->keras-tuner) (0.2.8)\n",
            "Requirement already satisfied: requests-oauthlib>=0.7.0 in /usr/local/lib/python3.7/dist-packages (from google-auth-oauthlib<0.5,>=0.4.1->tensorboard->keras-tuner) (1.3.0)\n",
            "Requirement already satisfied: importlib-metadata in /usr/local/lib/python3.7/dist-packages (from markdown>=2.6.8->tensorboard->keras-tuner) (4.8.1)\n",
            "Requirement already satisfied: pyasn1<0.5.0,>=0.4.6 in /usr/local/lib/python3.7/dist-packages (from pyasn1-modules>=0.2.1->google-auth<2,>=1.6.3->tensorboard->keras-tuner) (0.4.8)\n",
            "Requirement already satisfied: oauthlib>=3.0.0 in /usr/local/lib/python3.7/dist-packages (from requests-oauthlib>=0.7.0->google-auth-oauthlib<0.5,>=0.4.1->tensorboard->keras-tuner) (3.1.1)\n",
            "Requirement already satisfied: typing-extensions>=3.6.4 in /usr/local/lib/python3.7/dist-packages (from importlib-metadata->markdown>=2.6.8->tensorboard->keras-tuner) (3.7.4.3)\n",
            "Requirement already satisfied: zipp>=0.5 in /usr/local/lib/python3.7/dist-packages (from importlib-metadata->markdown>=2.6.8->tensorboard->keras-tuner) (3.6.0)\n",
            "Installing collected packages: kt-legacy, keras-tuner\n",
            "Successfully installed keras-tuner-1.0.4 kt-legacy-1.0.4\n",
            "Collecting pydicom\n",
            "  Downloading pydicom-2.2.2-py3-none-any.whl (2.0 MB)\n",
            "\u001b[K     |████████████████████████████████| 2.0 MB 5.1 MB/s \n",
            "\u001b[?25hInstalling collected packages: pydicom\n",
            "Successfully installed pydicom-2.2.2\n"
          ]
        }
      ]
    },
    {
      "cell_type": "code",
      "metadata": {
        "id": "VKeK6SnBkHs6"
      },
      "source": [
        "import keras_tuner as kt\n",
        "\n",
        "import os\n",
        "import glob\n",
        "\n",
        "import pandas as pd\n",
        "import numpy as np\n",
        "from pathlib import Path\n",
        "\n",
        "import random\n",
        "from tqdm.notebook import tqdm\n",
        "import pydicom # Handle MRI images\n",
        "\n",
        "import cv2  # OpenCV - https://docs.opencv.org/master/d6/d00/tutorial_py_root.html\n",
        "\n",
        "from sklearn.model_selection import train_test_split\n",
        "from sklearn.metrics import roc_auc_score\n",
        "\n",
        "\n",
        "import tensorflow as tf\n",
        "from tensorflow import keras\n",
        "from tensorflow.keras.utils import to_categorical\n",
        "from tensorflow.keras import layers\n",
        "import matplotlib.pyplot as plt\n"
      ],
      "execution_count": 2,
      "outputs": []
    },
    {
      "cell_type": "code",
      "metadata": {
        "colab": {
          "base_uri": "https://localhost:8080/"
        },
        "id": "ZFkPZGHZkI_A",
        "outputId": "4c9f1558-3b44-49cb-960a-45536900057b"
      },
      "source": [
        "from google.colab import drive\n",
        "drive.mount('/content/drive')"
      ],
      "execution_count": 3,
      "outputs": [
        {
          "output_type": "stream",
          "name": "stdout",
          "text": [
            "Mounted at /content/drive\n"
          ]
        }
      ]
    },
    {
      "cell_type": "markdown",
      "metadata": {
        "id": "2SGBblQ_kUxJ"
      },
      "source": [
        "# Loading and Converting Data in 2D image classification format "
      ]
    },
    {
      "cell_type": "code",
      "metadata": {
        "id": "Nn2izqSskKNA"
      },
      "source": [
        "!cp \"/content/drive/MyDrive/kaggle_competitions/RSNA_MICCAI_Brain_Tumor_Radiogenomic_Classification/results.zip\" \"/content/\""
      ],
      "execution_count": 4,
      "outputs": []
    },
    {
      "cell_type": "code",
      "metadata": {
        "colab": {
          "base_uri": "https://localhost:8080/"
        },
        "id": "YkubWZuykXjA",
        "outputId": "540174f1-037b-4725-e0c9-fe8883eed2ec"
      },
      "source": [
        "!unzip results.zip"
      ],
      "execution_count": 5,
      "outputs": [
        {
          "output_type": "stream",
          "name": "stdout",
          "text": [
            "Archive:  results.zip\n",
            "  inflating: 224_FLAIR_test_X.npy    \n",
            "  inflating: 224_FLAIR_test_id.npy   \n",
            "  inflating: 224_FLAIR_train_X.npy   \n",
            "  inflating: 224_FLAIR_train_id.npy  \n",
            "  inflating: 224_FLAIR_train_y.npy   \n",
            "  inflating: 224_T1wCE_test_X.npy    \n",
            "  inflating: 224_T1wCE_test_id.npy   \n",
            "  inflating: 224_T1wCE_train_X.npy   \n",
            "  inflating: 224_T1wCE_train_id.npy  \n",
            "  inflating: 224_T1wCE_train_y.npy   \n"
          ]
        }
      ]
    },
    {
      "cell_type": "code",
      "metadata": {
        "id": "M5hgAvA9kZBC"
      },
      "source": [
        "X_temp = np.load('/content/224_FLAIR_train_X.npy',allow_pickle=True)\n",
        "y_temp = np.load('/content/224_FLAIR_train_y.npy', allow_pickle=True)\n",
        "trainidt = np.load('/content/224_FLAIR_train_id.npy', allow_pickle=True)"
      ],
      "execution_count": 6,
      "outputs": []
    },
    {
      "cell_type": "code",
      "metadata": {
        "id": "pudl5kLZkaF3",
        "colab": {
          "base_uri": "https://localhost:8080/",
          "height": 285
        },
        "outputId": "736348cf-c5b5-4fe0-8b28-a6f16e96bbd4"
      },
      "source": [
        "plt.imshow(X_temp[0][100])"
      ],
      "execution_count": 7,
      "outputs": [
        {
          "output_type": "execute_result",
          "data": {
            "text/plain": [
              "<matplotlib.image.AxesImage at 0x7f925b3fb1d0>"
            ]
          },
          "metadata": {},
          "execution_count": 7
        },
        {
          "output_type": "display_data",
          "data": {
            "image/png": "[encoded data removed]",
            "text/plain": [
              "<Figure size 432x288 with 1 Axes>"
            ]
          },
          "metadata": {
            "needs_background": "light"
          }
        }
      ]
    },
    {
      "cell_type": "code",
      "metadata": {
        "id": "lHUjgxwdkbIX"
      },
      "source": [
        "X_test_temp= np.load('/content/224_FLAIR_test_X.npy',allow_pickle=True)\n",
        "testidt = np.load('/content/224_FLAIR_test_id.npy', allow_pickle=True)"
      ],
      "execution_count": 8,
      "outputs": []
    },
    {
      "cell_type": "code",
      "metadata": {
        "id": "V4BrrtArkce4",
        "colab": {
          "base_uri": "https://localhost:8080/"
        },
        "outputId": "4d8e1ad7-7935-4f67-907c-87ae60b760f8"
      },
      "source": [
        "len(X_temp), len(X_temp[0]), (X_temp[0][0]).shape"
      ],
      "execution_count": 9,
      "outputs": [
        {
          "output_type": "execute_result",
          "data": {
            "text/plain": [
              "(582, 400, (224, 224))"
            ]
          },
          "metadata": {},
          "execution_count": 9
        }
      ]
    },
    {
      "cell_type": "markdown",
      "metadata": {
        "id": "uYg4z341kfa0"
      },
      "source": [
        "Note - The format of data after loading is  [ [Dicom of paitent 1: img1, img2, img3 --- ]]</br>\n",
        "ie. list of patients, and the list of images of individual patient and each images of shape (224,224)  "
      ]
    },
    {
      "cell_type": "markdown",
      "metadata": {
        "id": "OPj9kVOzkg9a"
      },
      "source": [
        "#### Below code will convert it to (image, labels, ids) pair so that we can feed it directly into image classification model"
      ]
    },
    {
      "cell_type": "code",
      "metadata": {
        "id": "UPeO8jNPkdiA"
      },
      "source": [
        "# Create 1 channel imahges \n",
        "\n",
        "# Convert \n",
        "\n",
        "X= []\n",
        "y = []\n",
        "train_id = []\n",
        "\n",
        "for i, im in enumerate(X_temp):\n",
        "    num_images = len(im)\n",
        "    start = int(num_images * 0.25)\n",
        "    end = int(num_images * 0.75)\n",
        "    interval = 3\n",
        "    if num_images < 10: \n",
        "        interval = 1\n",
        "    im_current = im[start:end:interval]\n",
        "    X+= im_current \n",
        "    y += [y_temp[i]] * len(im_current)\n",
        "\n",
        "    train_id += [trainidt[i]]*len(im_current)"
      ],
      "execution_count": 10,
      "outputs": []
    },
    {
      "cell_type": "code",
      "metadata": {
        "id": "tQw9OkVBksqg",
        "colab": {
          "base_uri": "https://localhost:8080/"
        },
        "outputId": "667efe2a-35d0-4bbe-8da8-1b693613f736"
      },
      "source": [
        "len(X), len(y), len(train_id)"
      ],
      "execution_count": 11,
      "outputs": [
        {
          "output_type": "execute_result",
          "data": {
            "text/plain": [
              "(12463, 12463, 12463)"
            ]
          },
          "metadata": {},
          "execution_count": 11
        }
      ]
    },
    {
      "cell_type": "code",
      "metadata": {
        "id": "63SuebRboSpx"
      },
      "source": [
        "# Converting all lists into array\n",
        "X= np.array(X)\n",
        "y = np.array(y)\n",
        "train_id = np.array(train_id)"
      ],
      "execution_count": 12,
      "outputs": []
    },
    {
      "cell_type": "code",
      "metadata": {
        "colab": {
          "base_uri": "https://localhost:8080/"
        },
        "id": "Hftow8ljoUBm",
        "outputId": "e91f58ba-bcd5-4b4c-e659-a3ab64db827b"
      },
      "source": [
        "X.shape"
      ],
      "execution_count": 14,
      "outputs": [
        {
          "output_type": "execute_result",
          "data": {
            "text/plain": [
              "(12463, 224, 224)"
            ]
          },
          "metadata": {},
          "execution_count": 14
        }
      ]
    },
    {
      "cell_type": "code",
      "metadata": {
        "id": "EaVD_InroV2n"
      },
      "source": [
        "# Same for test"
      ],
      "execution_count": 15,
      "outputs": []
    },
    {
      "cell_type": "code",
      "metadata": {
        "id": "3_inpC3YpBYQ"
      },
      "source": [
        "X_test= []\n",
        "test_id = []\n",
        "\n",
        "for i, im in enumerate(X_test_temp):\n",
        "    num_images = len(im)\n",
        "    start = int(num_images * 0.25)\n",
        "    end = int(num_images * 0.75)\n",
        "    interval = 3\n",
        "    if num_images < 10: \n",
        "        interval = 1\n",
        "    im_current = im[start:end:interval]\n",
        "    X_test+= im_current\n",
        "    test_id += [testidt[i]]*len(im_current)"
      ],
      "execution_count": 16,
      "outputs": []
    },
    {
      "cell_type": "code",
      "metadata": {
        "colab": {
          "base_uri": "https://localhost:8080/"
        },
        "id": "nPq5MOmgpDSY",
        "outputId": "a54eb8d1-d2ed-40d7-ffc7-3bae0b0c1280"
      },
      "source": [
        "\n",
        "len(X_test), len(test_id)"
      ],
      "execution_count": 17,
      "outputs": [
        {
          "output_type": "execute_result",
          "data": {
            "text/plain": [
              "(1822, 1822)"
            ]
          },
          "metadata": {},
          "execution_count": 17
        }
      ]
    },
    {
      "cell_type": "code",
      "metadata": {
        "id": "LL9E0X4_pFKP"
      },
      "source": [
        "X_train, X_valid, y_train, y_valid, trainidt_train, trainidt_valid = train_test_split(X, y, train_id, test_size=0.2, random_state=42)"
      ],
      "execution_count": 24,
      "outputs": []
    },
    {
      "cell_type": "code",
      "metadata": {
        "id": "ggNuaWawpGFv"
      },
      "source": [
        "# Convert y to one hot encoded y\n",
        "y_train = to_categorical(y_train)\n",
        "y_valid = to_categorical(y_valid)"
      ],
      "execution_count": 26,
      "outputs": []
    },
    {
      "cell_type": "code",
      "metadata": {
        "colab": {
          "base_uri": "https://localhost:8080/"
        },
        "id": "-D-rYvI2pQcv",
        "outputId": "54da8f1f-4cdd-4246-b248-6734303366fb"
      },
      "source": [
        "# Expand dims of X_train, and X_Valid from (224, 224) -> (224, 224, 1)\n",
        "X_train = tf.expand_dims(X_train, axis =3)\n",
        "X_valid = tf.expand_dims(X_valid, axis =3)\n",
        "X_train.shape, X_valid.shape"
      ],
      "execution_count": 27,
      "outputs": [
        {
          "output_type": "execute_result",
          "data": {
            "text/plain": [
              "(TensorShape([9970, 224, 224, 1]), TensorShape([2493, 224, 224, 1]))"
            ]
          },
          "metadata": {},
          "execution_count": 27
        }
      ]
    },
    {
      "cell_type": "markdown",
      "metadata": {
        "id": "PQ-hqbK9pIMb"
      },
      "source": [
        "# Create Model (use Keras Tuner)"
      ]
    },
    {
      "cell_type": "code",
      "metadata": {
        "id": "N1FF1RyMpG-l"
      },
      "source": [
        "import keras_tuner as kt\n",
        "\n",
        "\n",
        "def make_model(hp):\n",
        "  # Input of model\n",
        "    inputs = keras.Input(shape=X_train.shape[1:])\n",
        "  \n",
        "  # Rescaling the model by dividing 255.0\n",
        "    x = keras.layers.experimental.preprocessing.Rescaling(1.0 / 255)(inputs)\n",
        "\n",
        "  # Adding layer and keras hyperparameter search space \n",
        "    x = keras.layers.Conv2D(filters=hp.Int('units_Conv_1_' + str(0),\n",
        "                                            min_value=64,\n",
        "                                            max_value=256,\n",
        "                                            step=32),\n",
        "                            kernel_size=hp.Choice('convolution_1', values = [2,4]),\n",
        "                            activation=\"relu\", \n",
        "                            name=\"Conv_1\")(x)\n",
        "  # Maxpool\n",
        "    x = keras.layers.MaxPool2D(pool_size=(2, 2))(x)\n",
        "\n",
        "  # Adding layer and keras hyperparameter search space \n",
        "    x = keras.layers.Conv2D(filters=hp.Int('units_conv2_' + str(1),\n",
        "                                            min_value=16,\n",
        "                                            max_value=128,\n",
        "                                            step=16),\n",
        "                            kernel_size=hp.Choice('convolution_2', values = [2,4]),\n",
        "                            activation=\"relu\",\n",
        "                            name=\"Conv_2\")(x)\n",
        "\n",
        "  # Maxpool\n",
        "    x = keras.layers.MaxPool2D(pool_size=(1, 1))(x)\n",
        "  \n",
        "  # Dropout \n",
        "    x = layers.Dropout(\n",
        "        hp.Float('dense_dropout', min_value=0., max_value=0.7)\n",
        "    )(x)\n",
        "  # Flatten\n",
        "    x = keras.layers.Flatten()(x)\n",
        "\n",
        "  # Dense (hidden layer)\n",
        "    x = layers.Dense(\n",
        "        units=hp.Int('num_dense_units', min_value=16, max_value=64, step=8),\n",
        "        activation='relu'\n",
        "    )(x)\n",
        "\n",
        "  # Output layer as y hot encoded so we used 2 \n",
        "    outputs = keras.layers.Dense(2, activation=\"softmax\")(x)\n",
        "\n",
        "  # Creating model\n",
        "    model = keras.Model(inputs, outputs)\n",
        "\n",
        "  # Defining AUC metrics \n",
        "    roc_auc = tf.keras.metrics.AUC(name='roc_auc', curve='ROC')\n",
        "\n",
        "  # Compile the model\n",
        "    model.compile(\n",
        "        loss=\"categorical_crossentropy\", optimizer=\"adam\", metrics=[roc_auc]\n",
        "    )\n",
        "    model.summary()\n",
        "    return model"
      ],
      "execution_count": 28,
      "outputs": []
    },
    {
      "cell_type": "code",
      "metadata": {
        "colab": {
          "base_uri": "https://localhost:8080/"
        },
        "id": "NjgMEEvDpJgF",
        "outputId": "9ff6d189-8a0f-4094-d527-6832b7656502"
      },
      "source": [
        "# Create rtuner object for Baysian optimization \n",
        "tuner = kt.tuners.BayesianOptimization(\n",
        "      make_model,\n",
        "      objective='val_loss',\n",
        "      seed = 42,\n",
        "      max_trials=5,  # Set to 5 to run quicker, but need 100+ for good results\n",
        "      directory=\"model\", # This should be set if you want to resume if stopped unexpected \n",
        "      project_name = \"224_FLAIR\")\n",
        "\n",
        "callbacks=[keras.callbacks.EarlyStopping(monitor='val_roc_auc', mode='max', patience=5, baseline=0.9)]\n",
        "\n",
        "# Start searching the best parameters \n",
        "tuner.search(X_train, y_train, validation_split=0.2, callbacks=callbacks, verbose=1, epochs=20)"
      ],
      "execution_count": 29,
      "outputs": [
        {
          "output_type": "stream",
          "name": "stdout",
          "text": [
            "Trial 5 Complete [00h 02m 55s]\n",
            "val_loss: 0.5520935654640198\n",
            "\n",
            "Best val_loss So Far: 0.49550771713256836\n",
            "Total elapsed time: 00h 12m 17s\n",
            "INFO:tensorflow:Oracle triggered exit\n"
          ]
        }
      ]
    },
    {
      "cell_type": "markdown",
      "metadata": {
        "id": "ZCLoKj7-wi2f"
      },
      "source": [
        "# After full search initiate the model with best parameter "
      ]
    },
    {
      "cell_type": "code",
      "metadata": {
        "id": "a-atTTObpKgm"
      },
      "source": [
        "best_hp = tuner.get_best_hyperparameters()[0]"
      ],
      "execution_count": 30,
      "outputs": []
    },
    {
      "cell_type": "code",
      "metadata": {
        "colab": {
          "base_uri": "https://localhost:8080/"
        },
        "id": "l8SbdZyEwj5k",
        "outputId": "25ce8488-5b96-4091-dbf0-90cc8b44260d"
      },
      "source": [
        "best_hp.get_config()"
      ],
      "execution_count": 31,
      "outputs": [
        {
          "output_type": "execute_result",
          "data": {
            "text/plain": [
              "{'space': [{'class_name': 'Int',\n",
              "   'config': {'conditions': [],\n",
              "    'default': None,\n",
              "    'max_value': 256,\n",
              "    'min_value': 64,\n",
              "    'name': 'units_Conv_1_0',\n",
              "    'sampling': None,\n",
              "    'step': 32}},\n",
              "  {'class_name': 'Choice',\n",
              "   'config': {'conditions': [],\n",
              "    'default': 2,\n",
              "    'name': 'convolution_1',\n",
              "    'ordered': True,\n",
              "    'values': [2, 4]}},\n",
              "  {'class_name': 'Int',\n",
              "   'config': {'conditions': [],\n",
              "    'default': None,\n",
              "    'max_value': 128,\n",
              "    'min_value': 16,\n",
              "    'name': 'units_conv2_1',\n",
              "    'sampling': None,\n",
              "    'step': 16}},\n",
              "  {'class_name': 'Choice',\n",
              "   'config': {'conditions': [],\n",
              "    'default': 2,\n",
              "    'name': 'convolution_2',\n",
              "    'ordered': True,\n",
              "    'values': [2, 4]}},\n",
              "  {'class_name': 'Float',\n",
              "   'config': {'conditions': [],\n",
              "    'default': 0.0,\n",
              "    'max_value': 0.7,\n",
              "    'min_value': 0.0,\n",
              "    'name': 'dense_dropout',\n",
              "    'sampling': None,\n",
              "    'step': None}},\n",
              "  {'class_name': 'Int',\n",
              "   'config': {'conditions': [],\n",
              "    'default': None,\n",
              "    'max_value': 64,\n",
              "    'min_value': 16,\n",
              "    'name': 'num_dense_units',\n",
              "    'sampling': None,\n",
              "    'step': 8}}],\n",
              " 'values': {'convolution_1': 2,\n",
              "  'convolution_2': 4,\n",
              "  'dense_dropout': 0.6217876535167416,\n",
              "  'num_dense_units': 32,\n",
              "  'units_Conv_1_0': 192,\n",
              "  'units_conv2_1': 64}}"
            ]
          },
          "metadata": {},
          "execution_count": 31
        }
      ]
    },
    {
      "cell_type": "code",
      "metadata": {
        "colab": {
          "base_uri": "https://localhost:8080/"
        },
        "id": "PcaKdA9CwkpU",
        "outputId": "2dfeb34d-0c3e-4267-ba29-5682155542a6"
      },
      "source": [
        "best_model = make_model(best_hp)"
      ],
      "execution_count": 32,
      "outputs": [
        {
          "output_type": "stream",
          "name": "stdout",
          "text": [
            "Model: \"model_1\"\n",
            "_________________________________________________________________\n",
            "Layer (type)                 Output Shape              Param #   \n",
            "=================================================================\n",
            "input_2 (InputLayer)         [(None, 224, 224, 1)]     0         \n",
            "_________________________________________________________________\n",
            "rescaling_1 (Rescaling)      (None, 224, 224, 1)       0         \n",
            "_________________________________________________________________\n",
            "Conv_1 (Conv2D)              (None, 223, 223, 192)     960       \n",
            "_________________________________________________________________\n",
            "max_pooling2d_2 (MaxPooling2 (None, 111, 111, 192)     0         \n",
            "_________________________________________________________________\n",
            "Conv_2 (Conv2D)              (None, 108, 108, 64)      196672    \n",
            "_________________________________________________________________\n",
            "max_pooling2d_3 (MaxPooling2 (None, 108, 108, 64)      0         \n",
            "_________________________________________________________________\n",
            "dropout_1 (Dropout)          (None, 108, 108, 64)      0         \n",
            "_________________________________________________________________\n",
            "flatten_1 (Flatten)          (None, 746496)            0         \n",
            "_________________________________________________________________\n",
            "dense_2 (Dense)              (None, 32)                23887904  \n",
            "_________________________________________________________________\n",
            "dense_3 (Dense)              (None, 2)                 66        \n",
            "=================================================================\n",
            "Total params: 24,085,602\n",
            "Trainable params: 24,085,602\n",
            "Non-trainable params: 0\n",
            "_________________________________________________________________\n"
          ]
        }
      ]
    },
    {
      "cell_type": "markdown",
      "metadata": {
        "id": "iTBhoqhQwnXP"
      },
      "source": [
        "# Fit for longer duration"
      ]
    },
    {
      "cell_type": "code",
      "metadata": {
        "colab": {
          "base_uri": "https://localhost:8080/"
        },
        "id": "xr39vmeywl38",
        "outputId": "50b01c7d-79d1-4a31-d093-cc460014edd1"
      },
      "source": [
        "history = best_model.fit(X_train, y_train, validation_split=0.2, epochs=50)"
      ],
      "execution_count": 33,
      "outputs": [
        {
          "output_type": "stream",
          "name": "stdout",
          "text": [
            "Epoch 1/50\n",
            "250/250 [==============================] - 27s 103ms/step - loss: 0.6783 - roc_auc: 0.6341 - val_loss: 0.6512 - val_roc_auc: 0.6636\n",
            "Epoch 2/50\n",
            "250/250 [==============================] - 26s 102ms/step - loss: 0.6231 - roc_auc: 0.7101 - val_loss: 0.6181 - val_roc_auc: 0.7166\n",
            "Epoch 3/50\n",
            "250/250 [==============================] - 25s 102ms/step - loss: 0.5579 - roc_auc: 0.7849 - val_loss: 0.5799 - val_roc_auc: 0.7616\n",
            "Epoch 4/50\n",
            "250/250 [==============================] - 26s 102ms/step - loss: 0.4870 - roc_auc: 0.8459 - val_loss: 0.5640 - val_roc_auc: 0.7882\n",
            "Epoch 5/50\n",
            "250/250 [==============================] - 25s 101ms/step - loss: 0.4224 - roc_auc: 0.8884 - val_loss: 0.5413 - val_roc_auc: 0.8103\n",
            "Epoch 6/50\n",
            "250/250 [==============================] - 25s 101ms/step - loss: 0.3562 - roc_auc: 0.9225 - val_loss: 0.5091 - val_roc_auc: 0.8398\n",
            "Epoch 7/50\n",
            "250/250 [==============================] - 25s 102ms/step - loss: 0.2969 - roc_auc: 0.9461 - val_loss: 0.5189 - val_roc_auc: 0.8517\n",
            "Epoch 8/50\n",
            "250/250 [==============================] - 25s 102ms/step - loss: 0.2678 - roc_auc: 0.9569 - val_loss: 0.5274 - val_roc_auc: 0.8524\n",
            "Epoch 9/50\n",
            "250/250 [==============================] - 25s 102ms/step - loss: 0.2403 - roc_auc: 0.9653 - val_loss: 0.5311 - val_roc_auc: 0.8589\n",
            "Epoch 10/50\n",
            "250/250 [==============================] - 25s 101ms/step - loss: 0.2115 - roc_auc: 0.9728 - val_loss: 0.5275 - val_roc_auc: 0.8648\n",
            "Epoch 11/50\n",
            "250/250 [==============================] - 25s 102ms/step - loss: 0.1841 - roc_auc: 0.9793 - val_loss: 0.5708 - val_roc_auc: 0.8616\n",
            "Epoch 12/50\n",
            "250/250 [==============================] - 25s 101ms/step - loss: 0.1759 - roc_auc: 0.9813 - val_loss: 0.5440 - val_roc_auc: 0.8702\n",
            "Epoch 13/50\n",
            "250/250 [==============================] - 25s 102ms/step - loss: 0.1625 - roc_auc: 0.9838 - val_loss: 0.5640 - val_roc_auc: 0.8740\n",
            "Epoch 14/50\n",
            "250/250 [==============================] - 25s 102ms/step - loss: 0.1422 - roc_auc: 0.9872 - val_loss: 0.6226 - val_roc_auc: 0.8689\n",
            "Epoch 15/50\n",
            "250/250 [==============================] - 26s 102ms/step - loss: 0.1291 - roc_auc: 0.9897 - val_loss: 0.6021 - val_roc_auc: 0.8696\n",
            "Epoch 16/50\n",
            "250/250 [==============================] - 26s 102ms/step - loss: 0.1369 - roc_auc: 0.9881 - val_loss: 0.5664 - val_roc_auc: 0.8792\n",
            "Epoch 17/50\n",
            "250/250 [==============================] - 25s 102ms/step - loss: 0.1256 - roc_auc: 0.9898 - val_loss: 0.6284 - val_roc_auc: 0.8772\n",
            "Epoch 18/50\n",
            "250/250 [==============================] - 25s 102ms/step - loss: 0.1027 - roc_auc: 0.9930 - val_loss: 0.6450 - val_roc_auc: 0.8699\n",
            "Epoch 19/50\n",
            "250/250 [==============================] - 25s 102ms/step - loss: 0.1027 - roc_auc: 0.9932 - val_loss: 0.6005 - val_roc_auc: 0.8826\n",
            "Epoch 20/50\n",
            "250/250 [==============================] - 25s 102ms/step - loss: 0.0908 - roc_auc: 0.9945 - val_loss: 0.6398 - val_roc_auc: 0.8744\n",
            "Epoch 21/50\n",
            "250/250 [==============================] - 25s 102ms/step - loss: 0.0886 - roc_auc: 0.9949 - val_loss: 0.6855 - val_roc_auc: 0.8750\n",
            "Epoch 22/50\n",
            "250/250 [==============================] - 25s 101ms/step - loss: 0.0797 - roc_auc: 0.9951 - val_loss: 0.7222 - val_roc_auc: 0.8772\n",
            "Epoch 23/50\n",
            "250/250 [==============================] - 25s 102ms/step - loss: 0.0897 - roc_auc: 0.9942 - val_loss: 0.6962 - val_roc_auc: 0.8710\n",
            "Epoch 24/50\n",
            "250/250 [==============================] - 25s 101ms/step - loss: 0.0736 - roc_auc: 0.9960 - val_loss: 0.7586 - val_roc_auc: 0.8740\n",
            "Epoch 25/50\n",
            "250/250 [==============================] - 26s 102ms/step - loss: 0.0758 - roc_auc: 0.9956 - val_loss: 0.6898 - val_roc_auc: 0.8794\n",
            "Epoch 26/50\n",
            "250/250 [==============================] - 25s 102ms/step - loss: 0.0716 - roc_auc: 0.9962 - val_loss: 0.7052 - val_roc_auc: 0.8797\n",
            "Epoch 27/50\n",
            "250/250 [==============================] - 25s 102ms/step - loss: 0.0765 - roc_auc: 0.9957 - val_loss: 0.6407 - val_roc_auc: 0.8826\n",
            "Epoch 28/50\n",
            "250/250 [==============================] - 26s 102ms/step - loss: 0.0625 - roc_auc: 0.9967 - val_loss: 0.7652 - val_roc_auc: 0.8801\n",
            "Epoch 29/50\n",
            "250/250 [==============================] - 25s 102ms/step - loss: 0.0683 - roc_auc: 0.9964 - val_loss: 0.6635 - val_roc_auc: 0.8789\n",
            "Epoch 30/50\n",
            "250/250 [==============================] - 25s 102ms/step - loss: 0.0567 - roc_auc: 0.9974 - val_loss: 0.7149 - val_roc_auc: 0.8797\n",
            "Epoch 31/50\n",
            "250/250 [==============================] - 25s 101ms/step - loss: 0.0600 - roc_auc: 0.9971 - val_loss: 0.7199 - val_roc_auc: 0.8814\n",
            "Epoch 32/50\n",
            "250/250 [==============================] - 25s 102ms/step - loss: 0.0532 - roc_auc: 0.9977 - val_loss: 0.7561 - val_roc_auc: 0.8816\n",
            "Epoch 33/50\n",
            "250/250 [==============================] - 25s 101ms/step - loss: 0.0479 - roc_auc: 0.9982 - val_loss: 0.7137 - val_roc_auc: 0.8828\n",
            "Epoch 34/50\n",
            "250/250 [==============================] - 25s 102ms/step - loss: 0.0484 - roc_auc: 0.9983 - val_loss: 0.7431 - val_roc_auc: 0.8852\n",
            "Epoch 35/50\n",
            "250/250 [==============================] - 25s 102ms/step - loss: 0.0450 - roc_auc: 0.9984 - val_loss: 0.7623 - val_roc_auc: 0.8852\n",
            "Epoch 36/50\n",
            "250/250 [==============================] - 25s 102ms/step - loss: 0.0402 - roc_auc: 0.9988 - val_loss: 0.8341 - val_roc_auc: 0.8806\n",
            "Epoch 37/50\n",
            "250/250 [==============================] - 25s 102ms/step - loss: 0.0429 - roc_auc: 0.9983 - val_loss: 0.8066 - val_roc_auc: 0.8848\n",
            "Epoch 38/50\n",
            "250/250 [==============================] - 25s 101ms/step - loss: 0.0437 - roc_auc: 0.9982 - val_loss: 0.8614 - val_roc_auc: 0.8772\n",
            "Epoch 39/50\n",
            "250/250 [==============================] - 25s 101ms/step - loss: 0.0508 - roc_auc: 0.9975 - val_loss: 0.7654 - val_roc_auc: 0.8853\n",
            "Epoch 40/50\n",
            "250/250 [==============================] - 25s 101ms/step - loss: 0.0381 - roc_auc: 0.9988 - val_loss: 0.8334 - val_roc_auc: 0.8787\n",
            "Epoch 41/50\n",
            "250/250 [==============================] - 25s 101ms/step - loss: 0.0448 - roc_auc: 0.9977 - val_loss: 0.7390 - val_roc_auc: 0.8868\n",
            "Epoch 42/50\n",
            "250/250 [==============================] - 25s 101ms/step - loss: 0.0403 - roc_auc: 0.9988 - val_loss: 0.8467 - val_roc_auc: 0.8800\n",
            "Epoch 43/50\n",
            "250/250 [==============================] - 25s 101ms/step - loss: 0.0656 - roc_auc: 0.9969 - val_loss: 1.0804 - val_roc_auc: 0.8726\n",
            "Epoch 44/50\n",
            "250/250 [==============================] - 25s 102ms/step - loss: 0.0492 - roc_auc: 0.9977 - val_loss: 0.8722 - val_roc_auc: 0.8778\n",
            "Epoch 45/50\n",
            "250/250 [==============================] - 25s 102ms/step - loss: 0.0345 - roc_auc: 0.9990 - val_loss: 0.8662 - val_roc_auc: 0.8796\n",
            "Epoch 46/50\n",
            "250/250 [==============================] - 25s 102ms/step - loss: 0.0401 - roc_auc: 0.9984 - val_loss: 0.8236 - val_roc_auc: 0.8795\n",
            "Epoch 47/50\n",
            "250/250 [==============================] - 26s 102ms/step - loss: 0.0357 - roc_auc: 0.9986 - val_loss: 0.7802 - val_roc_auc: 0.8800\n",
            "Epoch 48/50\n",
            "250/250 [==============================] - 25s 102ms/step - loss: 0.0347 - roc_auc: 0.9989 - val_loss: 0.8686 - val_roc_auc: 0.8778\n",
            "Epoch 49/50\n",
            "250/250 [==============================] - 25s 102ms/step - loss: 0.0299 - roc_auc: 0.9993 - val_loss: 0.9321 - val_roc_auc: 0.8766\n",
            "Epoch 50/50\n",
            "250/250 [==============================] - 25s 102ms/step - loss: 0.0352 - roc_auc: 0.9986 - val_loss: 0.7963 - val_roc_auc: 0.8838\n"
          ]
        }
      ]
    },
    {
      "cell_type": "markdown",
      "metadata": {
        "id": "3gdox153wp_1"
      },
      "source": [
        "# save the model "
      ]
    },
    {
      "cell_type": "code",
      "metadata": {
        "id": "vdwrVDjywokz"
      },
      "source": [
        "best_model.save(\"final.h5\")"
      ],
      "execution_count": 34,
      "outputs": []
    }
  ]
}