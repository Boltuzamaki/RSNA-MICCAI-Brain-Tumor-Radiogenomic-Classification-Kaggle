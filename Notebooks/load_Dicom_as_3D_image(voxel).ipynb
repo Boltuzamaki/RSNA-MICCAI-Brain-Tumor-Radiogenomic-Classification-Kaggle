{
 "cells": [
  {
   "cell_type": "code",
   "execution_count": 1,
   "id": "e751acbc",
   "metadata": {
    "_cell_guid": "b1076dfc-b9ad-4769-8c92-a6c4dae69d19",
    "_uuid": "8f2839f25d086af736a60e9eeb907d3b93b6e0e5",
    "execution": {
     "iopub.execute_input": "2021-10-11T10:53:29.383215Z",
     "iopub.status.busy": "2021-10-11T10:53:29.381681Z",
     "iopub.status.idle": "2021-10-11T10:53:34.628282Z",
     "shell.execute_reply": "2021-10-11T10:53:34.628792Z",
     "shell.execute_reply.started": "2021-10-11T10:50:50.464090Z"
    },
    "papermill": {
     "duration": 5.260275,
     "end_time": "2021-10-11T10:53:34.629080",
     "exception": false,
     "start_time": "2021-10-11T10:53:29.368805",
     "status": "completed"
    },
    "tags": []
   },
   "outputs": [
    {
     "name": "stderr",
     "output_type": "stream",
     "text": [
      "2021-10-11 10:53:30.852766: I tensorflow/stream_executor/platform/default/dso_loader.cc:49] Successfully opened dynamic library libcudart.so.11.0\n"
     ]
    }
   ],
   "source": [
    "import os\n",
    "import glob\n",
    "\n",
    "import pandas as pd\n",
    "import numpy as np\n",
    "from pathlib import Path\n",
    "\n",
    "import random\n",
    "from tqdm.notebook import tqdm\n",
    "import pydicom # Handle MRI images\n",
    "\n",
    "import cv2  # OpenCV - https://docs.opencv.org/master/d6/d00/tutorial_py_root.html\n",
    "\n",
    "from sklearn.model_selection import train_test_split\n",
    "from sklearn.metrics import roc_auc_score\n",
    "\n",
    "\n",
    "import tensorflow as tf\n",
    "from tensorflow import keras\n",
    "from tensorflow.keras.utils import to_categorical\n",
    "from tensorflow.keras import layers"
   ]
  },
  {
   "cell_type": "code",
   "execution_count": 2,
   "id": "1872f4a2",
   "metadata": {
    "execution": {
     "iopub.execute_input": "2021-10-11T10:53:34.663866Z",
     "iopub.status.busy": "2021-10-11T10:53:34.662765Z",
     "iopub.status.idle": "2021-10-11T10:53:34.697012Z",
     "shell.execute_reply": "2021-10-11T10:53:34.698100Z",
     "shell.execute_reply.started": "2021-10-11T10:51:01.657308Z"
    },
    "papermill": {
     "duration": 0.055339,
     "end_time": "2021-10-11T10:53:34.698318",
     "exception": false,
     "start_time": "2021-10-11T10:53:34.642979",
     "status": "completed"
    },
    "tags": []
   },
   "outputs": [],
   "source": [
    "data_dir = Path('../input/rsna-miccai-brain-tumor-radiogenomic-classification/')\n",
    "\n",
    "mri_types = [\"FLAIR\", \"T1w\", \"T2w\", \"T1wCE\"]\n",
    "train_df = pd.read_csv(\"../input/rsna-miccai-brain-tumor-radiogenomic-classification/train_labels.csv\")\n",
    "test_df = pd.read_csv(data_dir / \"sample_submission.csv\")\n",
    "sample_submission = pd.read_csv(data_dir / \"sample_submission.csv\")"
   ]
  },
  {
   "cell_type": "code",
   "execution_count": 3,
   "id": "e054ffa3",
   "metadata": {
    "execution": {
     "iopub.execute_input": "2021-10-11T10:53:34.746454Z",
     "iopub.status.busy": "2021-10-11T10:53:34.745641Z",
     "iopub.status.idle": "2021-10-11T10:53:34.761150Z",
     "shell.execute_reply": "2021-10-11T10:53:34.762138Z",
     "shell.execute_reply.started": "2021-10-11T10:51:18.063913Z"
    },
    "papermill": {
     "duration": 0.040551,
     "end_time": "2021-10-11T10:53:34.762332",
     "exception": false,
     "start_time": "2021-10-11T10:53:34.721781",
     "status": "completed"
    },
    "tags": []
   },
   "outputs": [],
   "source": [
    "def load_dicom(path, size = 224):\n",
    "    ''' \n",
    "    Reads a DICOM image, standardizes so that the pixel values are between 0 and 1, then rescales to 0 and 255\n",
    "    \n",
    "    Not super sure if this kind of scaling is appropriate, but everyone seems to do it. \n",
    "    '''\n",
    "    dicom = pydicom.read_file(path)\n",
    "    data = dicom.pixel_array\n",
    "    # transform data into black and white scale / grayscale\n",
    "#     data = data - np.min(data)\n",
    "    if np.max(data) != 0:\n",
    "        data = data / np.max(data)\n",
    "    data = (data * 255).astype(np.uint8)\n",
    "    return cv2.resize(data, (size, size))\n",
    "\n",
    "def get_all_image_paths(brats21id, image_type, folder='train'): \n",
    "    '''\n",
    "    Returns an arry of all the images of a particular type for a particular patient ID\n",
    "    '''\n",
    "    assert(image_type in mri_types)\n",
    "    \n",
    "    patient_path = os.path.join(\n",
    "        \"../input/rsna-miccai-brain-tumor-radiogenomic-classification/%s/\" % folder, \n",
    "        str(brats21id).zfill(5),\n",
    "    )\n",
    "\n",
    "    paths = sorted(\n",
    "        glob.glob(os.path.join(patient_path, image_type, \"*\")), \n",
    "        key=lambda x: int(x[:-4].split(\"-\")[-1]),\n",
    "    )\n",
    "    \n",
    "    return np.array(paths)\n",
    "\n",
    "def get_all_images(brats21id, image_type, folder='train', size=225):\n",
    "    return [load_dicom(path, size) for path in get_all_image_paths(brats21id, image_type, folder)]\n",
    "\n",
    "def get_all_data_for_train(image_type, image_size=32):\n",
    "    global train_df\n",
    "    \n",
    "    X = []\n",
    "    y = []\n",
    "    train_ids = []\n",
    "\n",
    "    for i in tqdm(train_df.index):\n",
    "        x = train_df.loc[i]\n",
    "        images = get_all_images(int(x['BraTS21ID']), image_type, 'train', image_size)\n",
    "        label = x['MGMT_value']\n",
    "\n",
    "        X.append(images)\n",
    "        y.append(label)\n",
    "        train_ids.append(int(x['BraTS21ID']))\n",
    "        assert(len(X) == len(y))\n",
    "    return np.array(X), np.array(y), np.array(train_ids)\n",
    "\n",
    "def resize_volume(img, desired_depth):\n",
    "    \"\"\"Resize across z-axis\"\"\"\n",
    "    # Set the desired depth\n",
    "    desired_depth = desired_depth\n",
    "    desired_width = 128\n",
    "    desired_height = 128\n",
    "    # Get current depth\n",
    "    current_depth = img.shape[-1]\n",
    "    current_width = img.shape[0]\n",
    "    current_height = img.shape[1]\n",
    "    # Compute depth factor\n",
    "    depth = current_depth / desired_depth\n",
    "    width = current_width / desired_width\n",
    "    height = current_height / desired_height\n",
    "    depth_factor = 1 / depth\n",
    "    width_factor = 1 / width\n",
    "    height_factor = 1 / height\n",
    "    # Rotate\n",
    "    img = ndimage.rotate(img, 90, reshape=False)\n",
    "    # Resize across z-axis\n",
    "    img = ndimage.zoom(img, (width_factor, height_factor, depth_factor), order=1)\n",
    "    return img"
   ]
  },
  {
   "cell_type": "code",
   "execution_count": 4,
   "id": "5b02f3b3",
   "metadata": {
    "execution": {
     "iopub.execute_input": "2021-10-11T10:53:34.794805Z",
     "iopub.status.busy": "2021-10-11T10:53:34.794094Z",
     "iopub.status.idle": "2021-10-11T11:04:22.593397Z",
     "shell.execute_reply": "2021-10-11T11:04:22.592560Z",
     "shell.execute_reply.started": "2021-10-11T10:18:46.432846Z"
    },
    "papermill": {
     "duration": 647.817263,
     "end_time": "2021-10-11T11:04:22.593617",
     "exception": false,
     "start_time": "2021-10-11T10:53:34.776354",
     "status": "completed"
    },
    "tags": []
   },
   "outputs": [
    {
     "data": {
      "application/vnd.jupyter.widget-view+json": {
       "model_id": "1ffb7183c4e949a0a1ad08897995df97",
       "version_major": 2,
       "version_minor": 0
      },
      "text/plain": [
       "  0%|          | 0/585 [00:00<?, ?it/s]"
      ]
     },
     "metadata": {},
     "output_type": "display_data"
    },
    {
     "name": "stderr",
     "output_type": "stream",
     "text": [
      "/opt/conda/lib/python3.7/site-packages/ipykernel_launcher.py:53: VisibleDeprecationWarning: Creating an ndarray from ragged nested sequences (which is a list-or-tuple of lists-or-tuples-or ndarrays with different lengths or shapes) is deprecated. If you meant to do this, you must specify 'dtype=object' when creating the ndarray\n"
     ]
    }
   ],
   "source": [
    "X_train, y_train, trainidt = get_all_data_for_train('FLAIR', image_size=128)"
   ]
  },
  {
   "cell_type": "code",
   "execution_count": 5,
   "id": "4b8729b0",
   "metadata": {
    "execution": {
     "iopub.execute_input": "2021-10-11T11:04:22.643162Z",
     "iopub.status.busy": "2021-10-11T11:04:22.642247Z",
     "iopub.status.idle": "2021-10-11T11:04:23.877282Z",
     "shell.execute_reply": "2021-10-11T11:04:23.876806Z",
     "shell.execute_reply.started": "2021-10-11T10:29:22.193195Z"
    },
    "papermill": {
     "duration": 1.267167,
     "end_time": "2021-10-11T11:04:23.877414",
     "exception": false,
     "start_time": "2021-10-11T11:04:22.610247",
     "status": "completed"
    },
    "tags": []
   },
   "outputs": [],
   "source": [
    "X_train =[np.array(np.moveaxis(im, 0, -1)) for im in X_train]  # Chnage shape from (depth, width, height) to (width, height, depth(fixed size))"
   ]
  },
  {
   "cell_type": "code",
   "execution_count": 6,
   "id": "86f43026",
   "metadata": {
    "execution": {
     "iopub.execute_input": "2021-10-11T11:04:23.916022Z",
     "iopub.status.busy": "2021-10-11T11:04:23.915324Z",
     "iopub.status.idle": "2021-10-11T11:04:24.154602Z",
     "shell.execute_reply": "2021-10-11T11:04:24.154980Z",
     "shell.execute_reply.started": "2021-10-11T10:29:22.802661Z"
    },
    "papermill": {
     "duration": 0.268408,
     "end_time": "2021-10-11T11:04:24.155159",
     "exception": false,
     "start_time": "2021-10-11T11:04:23.886751",
     "status": "completed"
    },
    "tags": []
   },
   "outputs": [
    {
     "data": {
      "text/plain": [
       "<matplotlib.image.AxesImage at 0x7fa67398ad90>"
      ]
     },
     "execution_count": 6,
     "metadata": {},
     "output_type": "execute_result"
    },
    {
     "data": {
      "image/png": "[encoded data removed]",
      "text/plain": [
       "<Figure size 432x288 with 1 Axes>"
      ]
     },
     "metadata": {
      "needs_background": "light"
     },
     "output_type": "display_data"
    }
   ],
   "source": [
    "import matplotlib.pyplot as plt\n",
    "\n",
    "plt.imshow(X_train[0][:,:,100])"
   ]
  },
  {
   "cell_type": "code",
   "execution_count": 7,
   "id": "2f771bc2",
   "metadata": {
    "execution": {
     "iopub.execute_input": "2021-10-11T11:04:24.185617Z",
     "iopub.status.busy": "2021-10-11T11:04:24.185025Z",
     "iopub.status.idle": "2021-10-11T11:07:52.823593Z",
     "shell.execute_reply": "2021-10-11T11:07:52.822701Z",
     "shell.execute_reply.started": "2021-10-11T10:29:23.031429Z"
    },
    "papermill": {
     "duration": 208.657393,
     "end_time": "2021-10-11T11:07:52.823737",
     "exception": false,
     "start_time": "2021-10-11T11:04:24.166344",
     "status": "completed"
    },
    "tags": []
   },
   "outputs": [],
   "source": [
    "from scipy import ndimage\n",
    "\n",
    "X_3d = []\n",
    "for im in X_train:\n",
    "    X_3d.append(resize_volume(im, 64))"
   ]
  },
  {
   "cell_type": "code",
   "execution_count": 8,
   "id": "f1443577",
   "metadata": {
    "execution": {
     "iopub.execute_input": "2021-10-11T11:07:52.851311Z",
     "iopub.status.busy": "2021-10-11T11:07:52.850152Z",
     "iopub.status.idle": "2021-10-11T11:07:52.853216Z",
     "shell.execute_reply": "2021-10-11T11:07:52.853617Z",
     "shell.execute_reply.started": "2021-10-11T10:33:36.568708Z"
    },
    "papermill": {
     "duration": 0.019305,
     "end_time": "2021-10-11T11:07:52.853815",
     "exception": false,
     "start_time": "2021-10-11T11:07:52.834510",
     "status": "completed"
    },
    "tags": []
   },
   "outputs": [
    {
     "data": {
      "text/plain": [
       "(128, 128, 64)"
      ]
     },
     "execution_count": 8,
     "metadata": {},
     "output_type": "execute_result"
    }
   ],
   "source": [
    "X_3d[64].shape"
   ]
  },
  {
   "cell_type": "code",
   "execution_count": 9,
   "id": "8e749edf",
   "metadata": {
    "execution": {
     "iopub.execute_input": "2021-10-11T11:07:52.891990Z",
     "iopub.status.busy": "2021-10-11T11:07:52.891122Z",
     "iopub.status.idle": "2021-10-11T11:07:53.090493Z",
     "shell.execute_reply": "2021-10-11T11:07:53.090043Z",
     "shell.execute_reply.started": "2021-10-11T10:33:36.577883Z"
    },
    "papermill": {
     "duration": 0.226313,
     "end_time": "2021-10-11T11:07:53.090612",
     "exception": false,
     "start_time": "2021-10-11T11:07:52.864299",
     "status": "completed"
    },
    "tags": []
   },
   "outputs": [
    {
     "data": {
      "text/plain": [
       "<matplotlib.image.AxesImage at 0x7fa6717eb990>"
      ]
     },
     "execution_count": 9,
     "metadata": {},
     "output_type": "execute_result"
    },
    {
     "data": {
      "image/png": "[encoded data removed]",
      "text/plain": [
       "<Figure size 432x288 with 1 Axes>"
      ]
     },
     "metadata": {
      "needs_background": "light"
     },
     "output_type": "display_data"
    }
   ],
   "source": [
    "plt.imshow(X_3d[64][:,:,10])"
   ]
  },
  {
   "cell_type": "code",
   "execution_count": 10,
   "id": "5a1be6e7",
   "metadata": {
    "execution": {
     "iopub.execute_input": "2021-10-11T11:07:53.119083Z",
     "iopub.status.busy": "2021-10-11T11:07:53.118216Z",
     "iopub.status.idle": "2021-10-11T11:07:54.099276Z",
     "shell.execute_reply": "2021-10-11T11:07:54.098387Z"
    },
    "papermill": {
     "duration": 0.997139,
     "end_time": "2021-10-11T11:07:54.099416",
     "exception": false,
     "start_time": "2021-10-11T11:07:53.102277",
     "status": "completed"
    },
    "tags": []
   },
   "outputs": [],
   "source": [
    "# Saving in .npy so that we can use it directly for training and other stuffs \n",
    "with open('128_FLAIR_train_X_3D_64.npy', 'wb') as f:\n",
    "    np.save(f, X_3d)\n",
    "with open('128_FLAIR_train_y_3D_64.npy', 'wb') as f:\n",
    "    np.save(f, y_train)\n",
    "with open('128_FLAIR_train_id_3D_64.npy', 'wb') as f:\n",
    "    np.save(f, trainidt)"
   ]
  },
  {
   "cell_type": "code",
   "execution_count": 11,
   "id": "22e75d25",
   "metadata": {
    "execution": {
     "iopub.execute_input": "2021-10-11T11:07:54.128104Z",
     "iopub.status.busy": "2021-10-11T11:07:54.127436Z",
     "iopub.status.idle": "2021-10-11T11:07:54.129973Z",
     "shell.execute_reply": "2021-10-11T11:07:54.130396Z"
    },
    "papermill": {
     "duration": 0.019367,
     "end_time": "2021-10-11T11:07:54.130518",
     "exception": false,
     "start_time": "2021-10-11T11:07:54.111151",
     "status": "completed"
    },
    "tags": []
   },
   "outputs": [
    {
     "data": {
      "text/plain": [
       "(585, 585, 585)"
      ]
     },
     "execution_count": 11,
     "metadata": {},
     "output_type": "execute_result"
    }
   ],
   "source": [
    "len(X_3d), len(y_train), len(trainidt)"
   ]
  }
 ],
 "metadata": {
  "kernelspec": {
   "display_name": "Python 3",
   "language": "python",
   "name": "python3"
  },
  "language_info": {
   "codemirror_mode": {
    "name": "ipython",
    "version": 3
   },
   "file_extension": ".py",
   "mimetype": "text/x-python",
   "name": "python",
   "nbconvert_exporter": "python",
   "pygments_lexer": "ipython3",
   "version": "3.7.10"
  },
  "papermill": {
   "default_parameters": {},
   "duration": 874.835908,
   "end_time": "2021-10-11T11:07:57.717610",
   "environment_variables": {},
   "exception": null,
   "input_path": "__notebook__.ipynb",
   "output_path": "__notebook__.ipynb",
   "parameters": {},
   "start_time": "2021-10-11T10:53:22.881702",
   "version": "2.3.3"
  },
  "widgets": {
   "application/vnd.jupyter.widget-state+json": {
    "state": {
     "048c91c38ed64c05aae50ff8f93c6c0c": {
      "model_module": "@jupyter-widgets/base",
      "model_module_version": "1.2.0",
      "model_name": "LayoutModel",
      "state": {
       "_model_module": "@jupyter-widgets/base",
       "_model_module_version": "1.2.0",
       "_model_name": "LayoutModel",
       "_view_count": null,
       "_view_module": "@jupyter-widgets/base",
       "_view_module_version": "1.2.0",
       "_view_name": "LayoutView",
       "align_content": null,
       "align_items": null,
       "align_self": null,
       "border": null,
       "bottom": null,
       "display": null,
       "flex": null,
       "flex_flow": null,
       "grid_area": null,
       "grid_auto_columns": null,
       "grid_auto_flow": null,
       "grid_auto_rows": null,
       "grid_column": null,
       "grid_gap": null,
       "grid_row": null,
       "grid_template_areas": null,
       "grid_template_columns": null,
       "grid_template_rows": null,
       "height": null,
       "justify_content": null,
       "justify_items": null,
       "left": null,
       "margin": null,
       "max_height": null,
       "max_width": null,
       "min_height": null,
       "min_width": null,
       "object_fit": null,
       "object_position": null,
       "order": null,
       "overflow": null,
       "overflow_x": null,
       "overflow_y": null,
       "padding": null,
       "right": null,
       "top": null,
       "visibility": null,
       "width": null
      }
     },
     "166e2bae0ad94a3c8b72080356481be6": {
      "model_module": "@jupyter-widgets/controls",
      "model_module_version": "1.5.0",
      "model_name": "FloatProgressModel",
      "state": {
       "_dom_classes": [],
       "_model_module": "@jupyter-widgets/controls",
       "_model_module_version": "1.5.0",
       "_model_name": "FloatProgressModel",
       "_view_count": null,
       "_view_module": "@jupyter-widgets/controls",
       "_view_module_version": "1.5.0",
       "_view_name": "ProgressView",
       "bar_style": "success",
       "description": "",
       "description_tooltip": null,
       "layout": "IPY_MODEL_f777f1bfcbea4741924f51f1981d8d35",
       "max": 585.0,
       "min": 0.0,
       "orientation": "horizontal",
       "style": "IPY_MODEL_496ca1ae55b6402ca830640373f59c9a",
       "value": 585.0
      }
     },
     "1ffb7183c4e949a0a1ad08897995df97": {
      "model_module": "@jupyter-widgets/controls",
      "model_module_version": "1.5.0",
      "model_name": "HBoxModel",
      "state": {
       "_dom_classes": [],
       "_model_module": "@jupyter-widgets/controls",
       "_model_module_version": "1.5.0",
       "_model_name": "HBoxModel",
       "_view_count": null,
       "_view_module": "@jupyter-widgets/controls",
       "_view_module_version": "1.5.0",
       "_view_name": "HBoxView",
       "box_style": "",
       "children": [
        "IPY_MODEL_6b55102be3764b8cafff618b49bccd76",
        "IPY_MODEL_166e2bae0ad94a3c8b72080356481be6",
        "IPY_MODEL_b41403d7fc5348589ecf70bdd98a75a0"
       ],
       "layout": "IPY_MODEL_f74dd290b3b24a3e9df8ab87d6d67798"
      }
     },
     "436764ec077740209cc325075038f756": {
      "model_module": "@jupyter-widgets/controls",
      "model_module_version": "1.5.0",
      "model_name": "DescriptionStyleModel",
      "state": {
       "_model_module": "@jupyter-widgets/controls",
       "_model_module_version": "1.5.0",
       "_model_name": "DescriptionStyleModel",
       "_view_count": null,
       "_view_module": "@jupyter-widgets/base",
       "_view_module_version": "1.2.0",
       "_view_name": "StyleView",
       "description_width": ""
      }
     },
     "496ca1ae55b6402ca830640373f59c9a": {
      "model_module": "@jupyter-widgets/controls",
      "model_module_version": "1.5.0",
      "model_name": "ProgressStyleModel",
      "state": {
       "_model_module": "@jupyter-widgets/controls",
       "_model_module_version": "1.5.0",
       "_model_name": "ProgressStyleModel",
       "_view_count": null,
       "_view_module": "@jupyter-widgets/base",
       "_view_module_version": "1.2.0",
       "_view_name": "StyleView",
       "bar_color": null,
       "description_width": ""
      }
     },
     "6b55102be3764b8cafff618b49bccd76": {
      "model_module": "@jupyter-widgets/controls",
      "model_module_version": "1.5.0",
      "model_name": "HTMLModel",
      "state": {
       "_dom_classes": [],
       "_model_module": "@jupyter-widgets/controls",
       "_model_module_version": "1.5.0",
       "_model_name": "HTMLModel",
       "_view_count": null,
       "_view_module": "@jupyter-widgets/controls",
       "_view_module_version": "1.5.0",
       "_view_name": "HTMLView",
       "description": "",
       "description_tooltip": null,
       "layout": "IPY_MODEL_7d1d3c802624439486ab292077b32d9c",
       "placeholder": "​",
       "style": "IPY_MODEL_436764ec077740209cc325075038f756",
       "value": "100%"
      }
     },
     "7d1d3c802624439486ab292077b32d9c": {
      "model_module": "@jupyter-widgets/base",
      "model_module_version": "1.2.0",
      "model_name": "LayoutModel",
      "state": {
       "_model_module": "@jupyter-widgets/base",
       "_model_module_version": "1.2.0",
       "_model_name": "LayoutModel",
       "_view_count": null,
       "_view_module": "@jupyter-widgets/base",
       "_view_module_version": "1.2.0",
       "_view_name": "LayoutView",
       "align_content": null,
       "align_items": null,
       "align_self": null,
       "border": null,
       "bottom": null,
       "display": null,
       "flex": null,
       "flex_flow": null,
       "grid_area": null,
       "grid_auto_columns": null,
       "grid_auto_flow": null,
       "grid_auto_rows": null,
       "grid_column": null,
       "grid_gap": null,
       "grid_row": null,
       "grid_template_areas": null,
       "grid_template_columns": null,
       "grid_template_rows": null,
       "height": null,
       "justify_content": null,
       "justify_items": null,
       "left": null,
       "margin": null,
       "max_height": null,
       "max_width": null,
       "min_height": null,
       "min_width": null,
       "object_fit": null,
       "object_position": null,
       "order": null,
       "overflow": null,
       "overflow_x": null,
       "overflow_y": null,
       "padding": null,
       "right": null,
       "top": null,
       "visibility": null,
       "width": null
      }
     },
     "b41403d7fc5348589ecf70bdd98a75a0": {
      "model_module": "@jupyter-widgets/controls",
      "model_module_version": "1.5.0",
      "model_name": "HTMLModel",
      "state": {
       "_dom_classes": [],
       "_model_module": "@jupyter-widgets/controls",
       "_model_module_version": "1.5.0",
       "_model_name": "HTMLModel",
       "_view_count": null,
       "_view_module": "@jupyter-widgets/controls",
       "_view_module_version": "1.5.0",
       "_view_name": "HTMLView",
       "description": "",
       "description_tooltip": null,
       "layout": "IPY_MODEL_048c91c38ed64c05aae50ff8f93c6c0c",
       "placeholder": "​",
       "style": "IPY_MODEL_c0f8c457a70443158a8efff1dd3715f9",
       "value": " 585/585 [10:47&lt;00:00,  2.96it/s]"
      }
     },
     "c0f8c457a70443158a8efff1dd3715f9": {
      "model_module": "@jupyter-widgets/controls",
      "model_module_version": "1.5.0",
      "model_name": "DescriptionStyleModel",
      "state": {
       "_model_module": "@jupyter-widgets/controls",
       "_model_module_version": "1.5.0",
       "_model_name": "DescriptionStyleModel",
       "_view_count": null,
       "_view_module": "@jupyter-widgets/base",
       "_view_module_version": "1.2.0",
       "_view_name": "StyleView",
       "description_width": ""
      }
     },
     "f74dd290b3b24a3e9df8ab87d6d67798": {
      "model_module": "@jupyter-widgets/base",
      "model_module_version": "1.2.0",
      "model_name": "LayoutModel",
      "state": {
       "_model_module": "@jupyter-widgets/base",
       "_model_module_version": "1.2.0",
       "_model_name": "LayoutModel",
       "_view_count": null,
       "_view_module": "@jupyter-widgets/base",
       "_view_module_version": "1.2.0",
       "_view_name": "LayoutView",
       "align_content": null,
       "align_items": null,
       "align_self": null,
       "border": null,
       "bottom": null,
       "display": null,
       "flex": null,
       "flex_flow": null,
       "grid_area": null,
       "grid_auto_columns": null,
       "grid_auto_flow": null,
       "grid_auto_rows": null,
       "grid_column": null,
       "grid_gap": null,
       "grid_row": null,
       "grid_template_areas": null,
       "grid_template_columns": null,
       "grid_template_rows": null,
       "height": null,
       "justify_content": null,
       "justify_items": null,
       "left": null,
       "margin": null,
       "max_height": null,
       "max_width": null,
       "min_height": null,
       "min_width": null,
       "object_fit": null,
       "object_position": null,
       "order": null,
       "overflow": null,
       "overflow_x": null,
       "overflow_y": null,
       "padding": null,
       "right": null,
       "top": null,
       "visibility": null,
       "width": null
      }
     },
     "f777f1bfcbea4741924f51f1981d8d35": {
      "model_module": "@jupyter-widgets/base",
      "model_module_version": "1.2.0",
      "model_name": "LayoutModel",
      "state": {
       "_model_module": "@jupyter-widgets/base",
       "_model_module_version": "1.2.0",
       "_model_name": "LayoutModel",
       "_view_count": null,
       "_view_module": "@jupyter-widgets/base",
       "_view_module_version": "1.2.0",
       "_view_name": "LayoutView",
       "align_content": null,
       "align_items": null,
       "align_self": null,
       "border": null,
       "bottom": null,
       "display": null,
       "flex": null,
       "flex_flow": null,
       "grid_area": null,
       "grid_auto_columns": null,
       "grid_auto_flow": null,
       "grid_auto_rows": null,
       "grid_column": null,
       "grid_gap": null,
       "grid_row": null,
       "grid_template_areas": null,
       "grid_template_columns": null,
       "grid_template_rows": null,
       "height": null,
       "justify_content": null,
       "justify_items": null,
       "left": null,
       "margin": null,
       "max_height": null,
       "max_width": null,
       "min_height": null,
       "min_width": null,
       "object_fit": null,
       "object_position": null,
       "order": null,
       "overflow": null,
       "overflow_x": null,
       "overflow_y": null,
       "padding": null,
       "right": null,
       "top": null,
       "visibility": null,
       "width": null
      }
     }
    },
    "version_major": 2,
    "version_minor": 0
   }
  }
 },
 "nbformat": 4,
 "nbformat_minor": 5
}
